{
  "nbformat": 4,
  "nbformat_minor": 0,
  "metadata": {
    "colab": {
      "provenance": []
    },
    "kernelspec": {
      "name": "python3",
      "display_name": "Python 3"
    },
    "language_info": {
      "name": "python"
    }
  },
  "cells": [
    {
      "cell_type": "code",
      "execution_count": 1,
      "metadata": {
        "colab": {
          "base_uri": "https://localhost:8080/"
        },
        "id": "9nPU6R-ROuyX",
        "outputId": "479cbe80-7695-429a-957d-e2ee7ca294ef"
      },
      "outputs": [
        {
          "output_type": "stream",
          "name": "stdout",
          "text": [
            "Requirement already satisfied: pandas in /usr/local/lib/python3.10/dist-packages (2.2.2)\n",
            "Requirement already satisfied: pyarrow in /usr/local/lib/python3.10/dist-packages (17.0.0)\n",
            "Requirement already satisfied: numpy>=1.22.4 in /usr/local/lib/python3.10/dist-packages (from pandas) (1.26.4)\n",
            "Requirement already satisfied: python-dateutil>=2.8.2 in /usr/local/lib/python3.10/dist-packages (from pandas) (2.8.2)\n",
            "Requirement already satisfied: pytz>=2020.1 in /usr/local/lib/python3.10/dist-packages (from pandas) (2024.2)\n",
            "Requirement already satisfied: tzdata>=2022.7 in /usr/local/lib/python3.10/dist-packages (from pandas) (2024.2)\n",
            "Requirement already satisfied: six>=1.5 in /usr/local/lib/python3.10/dist-packages (from python-dateutil>=2.8.2->pandas) (1.17.0)\n"
          ]
        }
      ],
      "source": [
        "!pip install pandas pyarrow\n"
      ]
    },
    {
      "cell_type": "code",
      "source": [
        "!pip install pyarrow\n",
        "!pip install fastparquet\n"
      ],
      "metadata": {
        "colab": {
          "base_uri": "https://localhost:8080/"
        },
        "id": "m8aVeDOaPcOg",
        "outputId": "ba0bda3d-6607-4939-e184-80a39aef204e"
      },
      "execution_count": 2,
      "outputs": [
        {
          "output_type": "stream",
          "name": "stdout",
          "text": [
            "Requirement already satisfied: pyarrow in /usr/local/lib/python3.10/dist-packages (17.0.0)\n",
            "Requirement already satisfied: numpy>=1.16.6 in /usr/local/lib/python3.10/dist-packages (from pyarrow) (1.26.4)\n",
            "Collecting fastparquet\n",
            "  Downloading fastparquet-2024.11.0-cp310-cp310-manylinux_2_17_x86_64.manylinux2014_x86_64.whl.metadata (4.2 kB)\n",
            "Requirement already satisfied: pandas>=1.5.0 in /usr/local/lib/python3.10/dist-packages (from fastparquet) (2.2.2)\n",
            "Requirement already satisfied: numpy in /usr/local/lib/python3.10/dist-packages (from fastparquet) (1.26.4)\n",
            "Collecting cramjam>=2.3 (from fastparquet)\n",
            "  Downloading cramjam-2.9.1-cp310-cp310-manylinux_2_17_x86_64.manylinux2014_x86_64.whl.metadata (4.9 kB)\n",
            "Requirement already satisfied: fsspec in /usr/local/lib/python3.10/dist-packages (from fastparquet) (2024.10.0)\n",
            "Requirement already satisfied: packaging in /usr/local/lib/python3.10/dist-packages (from fastparquet) (24.2)\n",
            "Requirement already satisfied: python-dateutil>=2.8.2 in /usr/local/lib/python3.10/dist-packages (from pandas>=1.5.0->fastparquet) (2.8.2)\n",
            "Requirement already satisfied: pytz>=2020.1 in /usr/local/lib/python3.10/dist-packages (from pandas>=1.5.0->fastparquet) (2024.2)\n",
            "Requirement already satisfied: tzdata>=2022.7 in /usr/local/lib/python3.10/dist-packages (from pandas>=1.5.0->fastparquet) (2024.2)\n",
            "Requirement already satisfied: six>=1.5 in /usr/local/lib/python3.10/dist-packages (from python-dateutil>=2.8.2->pandas>=1.5.0->fastparquet) (1.17.0)\n",
            "Downloading fastparquet-2024.11.0-cp310-cp310-manylinux_2_17_x86_64.manylinux2014_x86_64.whl (1.7 MB)\n",
            "\u001b[2K   \u001b[90m━━━━━━━━━━━━━━━━━━━━━━━━━━━━━━━━━━━━━━━━\u001b[0m \u001b[32m1.7/1.7 MB\u001b[0m \u001b[31m18.2 MB/s\u001b[0m eta \u001b[36m0:00:00\u001b[0m\n",
            "\u001b[?25hDownloading cramjam-2.9.1-cp310-cp310-manylinux_2_17_x86_64.manylinux2014_x86_64.whl (2.4 MB)\n",
            "\u001b[2K   \u001b[90m━━━━━━━━━━━━━━━━━━━━━━━━━━━━━━━━━━━━━━━━\u001b[0m \u001b[32m2.4/2.4 MB\u001b[0m \u001b[31m64.9 MB/s\u001b[0m eta \u001b[36m0:00:00\u001b[0m\n",
            "\u001b[?25hInstalling collected packages: cramjam, fastparquet\n",
            "Successfully installed cramjam-2.9.1 fastparquet-2024.11.0\n"
          ]
        }
      ]
    },
    {
      "cell_type": "code",
      "source": [
        "import pandas as pd\n",
        "\n",
        "# Read the Parquet file\n",
        "df = pd.read_parquet('/content/47100CE.parquet')\n",
        "\n",
        "print(df.head())\n"
      ],
      "metadata": {
        "colab": {
          "base_uri": "https://localhost:8080/"
        },
        "id": "GEig0rA3POAC",
        "outputId": "fa796b28-8c4c-40ec-8460-053e29554274"
      },
      "execution_count": 3,
      "outputs": [
        {
          "output_type": "stream",
          "name": "stdout",
          "text": [
            "                 date     open     high      low    close  volume\n",
            "0 2023-12-07 09:15:00  1146.15  1146.15  1146.15  1146.15       0\n",
            "1 2023-12-07 09:16:00  1146.15  1146.15  1146.15  1146.15       0\n",
            "2 2023-12-07 09:17:00  1146.15  1146.15  1146.15  1146.15       0\n",
            "3 2023-12-07 09:18:00  1146.15  1146.15  1146.15  1146.15       0\n",
            "4 2023-12-07 09:19:00  1146.15  1146.15  1146.15  1146.15       0\n"
          ]
        }
      ]
    },
    {
      "cell_type": "code",
      "source": [
        "import pandas as pd\n",
        "\n",
        "# Load the Parquet file\n",
        "file_name = '47100CE.parquet'\n",
        "df = pd.read_parquet(file_name)\n",
        "\n",
        "print(df.columns)\n"
      ],
      "metadata": {
        "colab": {
          "base_uri": "https://localhost:8080/"
        },
        "id": "IIXlt12pfujA",
        "outputId": "26722d23-3f0b-42c1-ae81-1c90bf317104"
      },
      "execution_count": 7,
      "outputs": [
        {
          "output_type": "stream",
          "name": "stdout",
          "text": [
            "Index(['date', 'open', 'high', 'low', 'close', 'volume'], dtype='object')\n"
          ]
        }
      ]
    },
    {
      "cell_type": "code",
      "source": [
        "import pandas as pd\n",
        "\n",
        "\n",
        "\n",
        "# Convert 'date' column to datetime\n",
        "df['date'] = pd.to_datetime(df['date'])\n",
        "\n",
        "# Filter data for 10th January 2024\n",
        "df_10th_jan = df[df['date'].dt.date == pd.to_datetime('2024-01-10').date()]\n",
        "\n",
        "\n",
        "df_10th_jan.set_index('date', inplace=True)\n",
        "\n",
        "print(\"✅ Data filtered for 10th January 2024\")\n",
        "print(df_10th_jan.head())\n"
      ],
      "metadata": {
        "colab": {
          "base_uri": "https://localhost:8080/"
        },
        "id": "Z5OOoBW5W2KW",
        "outputId": "2fd8d76a-4213-45fb-adcc-36ab2f76ec4c"
      },
      "execution_count": 7,
      "outputs": [
        {
          "output_type": "stream",
          "name": "stdout",
          "text": [
            "✅ Data filtered for 10th January 2024\n",
            "                      open    high     low   close   volume\n",
            "date                                                       \n",
            "2024-01-10 09:15:00  148.0  158.90  130.05  138.80  1754190\n",
            "2024-01-10 09:16:00  138.8  148.85  129.05  146.00  1896165\n",
            "2024-01-10 09:17:00  146.0  146.00  126.20  126.20  1378245\n",
            "2024-01-10 09:18:00  126.2  138.55  121.00  134.60  1201305\n",
            "2024-01-10 09:19:00  134.6  135.35  115.45  131.15  1328130\n"
          ]
        }
      ]
    },
    {
      "cell_type": "code",
      "source": [
        "# Resample into 5-minute intervals for OHLC and sum volume\n",
        "ohlc_5min = df_10th_jan.resample('5T').agg({\n",
        "    'open': 'first',\n",
        "    'high': 'max',\n",
        "    'low': 'min',\n",
        "    'close': 'last',\n",
        "    'volume': 'sum'\n",
        "})\n",
        "\n",
        "# Drop rows with NaN values (empty intervals)\n",
        "ohlc_5min.dropna(inplace=True)\n",
        "\n",
        "print(\"✅ 5-minute candles generated\")\n",
        "print(ohlc_5min.head())\n"
      ],
      "metadata": {
        "colab": {
          "base_uri": "https://localhost:8080/"
        },
        "id": "lTBpHWhYbKBn",
        "outputId": "b2d412ea-0e3f-4e24-c44b-96a7947ead3a"
      },
      "execution_count": 8,
      "outputs": [
        {
          "output_type": "stream",
          "name": "stdout",
          "text": [
            "✅ 5-minute candles generated\n",
            "                       open    high     low   close    volume\n",
            "date                                                         \n",
            "2024-01-10 09:15:00  148.00  158.90  115.45  131.15   7558035\n",
            "2024-01-10 09:20:00  131.15  137.30  114.05  123.25   4332000\n",
            "2024-01-10 09:25:00  123.25  125.90   89.30   89.75   5864640\n",
            "2024-01-10 09:30:00   89.75  207.80   86.75  202.00  11671065\n",
            "2024-01-10 09:35:00  202.00  221.25  139.30  187.15   5177025\n"
          ]
        },
        {
          "output_type": "stream",
          "name": "stderr",
          "text": [
            "<ipython-input-8-3c4d0b669d92>:2: FutureWarning: 'T' is deprecated and will be removed in a future version, please use 'min' instead.\n",
            "  ohlc_5min = df_10th_jan.resample('5T').agg({\n"
          ]
        }
      ]
    },
    {
      "cell_type": "code",
      "source": [
        "import os\n",
        "\n",
        "# Reset index to turn 'date' back into a column\n",
        "ohlc_5min.reset_index(inplace=True)\n",
        "\n",
        "os.makedirs('5min_candles', exist_ok=True)\n",
        "\n",
        "# Save to CSV\n",
        "ohlc_5min.to_csv('5min_candles/47100CE_5min_candles.csv', index=False)\n",
        "\n",
        "print(\"✅ CSV saved as '5min_candles/47100CE_5min_candles.csv'\")\n"
      ],
      "metadata": {
        "colab": {
          "base_uri": "https://localhost:8080/"
        },
        "id": "BYw5myW1bgSm",
        "outputId": "9b105120-4b05-470f-e438-bc8aa53b4041"
      },
      "execution_count": 9,
      "outputs": [
        {
          "output_type": "stream",
          "name": "stdout",
          "text": [
            "✅ CSV saved as '5min_candles/47100CE_5min_candles.csv'\n"
          ]
        }
      ]
    },
    {
      "cell_type": "code",
      "source": [
        "# Extract High, Low, and Close for the entire day\n",
        "daily_high = df_10th_jan['high'].max()\n",
        "daily_low = df_10th_jan['low'].min()\n",
        "daily_close = df_10th_jan['close'].iloc[-1]  # Last close of the day\n",
        "\n",
        "# Pivot Point (P)\n",
        "pivot_point = (daily_high + daily_low + daily_close) / 3\n",
        "\n",
        "# Resistance Levels\n",
        "R1 = pivot_point + 0.382 * (daily_high - daily_low)\n",
        "R2 = pivot_point + 0.618 * (daily_high - daily_low)\n",
        "R3 = pivot_point + (daily_high - daily_low)\n",
        "\n",
        "# Support Levels\n",
        "S1 = pivot_point - 0.382 * (daily_high - daily_low)\n",
        "S2 = pivot_point - 0.618 * (daily_high - daily_low)\n",
        "S3 = pivot_point - (daily_high - daily_low)\n",
        "\n",
        "# Display the Fibonacci Pivot Points\n",
        "print(\"📊 Fibonacci Pivot Points for 10th Jan 2024\")\n",
        "print(f\"Pivot Point (P): {pivot_point:.2f}\")\n",
        "print(f\"Resistance 1 (R1): {R1:.2f}\")\n",
        "print(f\"Resistance 2 (R2): {R2:.2f}\")\n",
        "print(f\"Resistance 3 (R3): {R3:.2f}\")\n",
        "print(f\"Support 1 (S1): {S1:.2f}\")\n",
        "print(f\"Support 2 (S2): {S2:.2f}\")\n",
        "print(f\"Support 3 (S3): {S3:.2f}\")\n"
      ],
      "metadata": {
        "colab": {
          "base_uri": "https://localhost:8080/"
        },
        "id": "5Kzh8hgZcA6A",
        "outputId": "53784b58-bfc2-4e05-c876-4766ed2ca0b2"
      },
      "execution_count": 10,
      "outputs": [
        {
          "output_type": "stream",
          "name": "stdout",
          "text": [
            "📊 Fibonacci Pivot Points for 10th Jan 2024\n",
            "Pivot Point (P): 222.47\n",
            "Resistance 1 (R1): 311.57\n",
            "Resistance 2 (R2): 366.62\n",
            "Resistance 3 (R3): 455.72\n",
            "Support 1 (S1): 133.37\n",
            "Support 2 (S2): 78.32\n",
            "Support 3 (S3): -10.78\n"
          ]
        }
      ]
    },
    {
      "cell_type": "code",
      "source": [
        "!git --version  # Check if git is installed\n",
        "!sudo apt-get install git  # Install git if not available\n"
      ],
      "metadata": {
        "colab": {
          "base_uri": "https://localhost:8080/"
        },
        "id": "rQylQ-rucXNe",
        "outputId": "82d6cb15-9d87-48bf-829e-a1485f0c7f86"
      },
      "execution_count": 11,
      "outputs": [
        {
          "output_type": "stream",
          "name": "stdout",
          "text": [
            "git version 2.34.1\n",
            "Reading package lists... Done\n",
            "Building dependency tree... Done\n",
            "Reading state information... Done\n",
            "git is already the newest version (1:2.34.1-1ubuntu1.11).\n",
            "0 upgraded, 0 newly installed, 0 to remove and 49 not upgraded.\n"
          ]
        }
      ]
    },
    {
      "cell_type": "code",
      "source": [
        "# Set your GitHub username and email\n",
        "!git config --global user.name \"prathamshirol\"\n",
        "!git config --global user.email \"prathamshirol53@gmail.com\"\n"
      ],
      "metadata": {
        "id": "SBENP4Owc8rh"
      },
      "execution_count": 12,
      "outputs": []
    },
    {
      "cell_type": "code",
      "source": [
        "# Replace 'YourGitHubUsername' and 'RepoName' with your details\n",
        "!git clone https://github.com/prathamshirol/quant.git\n"
      ],
      "metadata": {
        "colab": {
          "base_uri": "https://localhost:8080/"
        },
        "id": "UgQB3CQFdMvr",
        "outputId": "c4cc1425-1b51-4d3f-b7cc-a9ceedc4ff49"
      },
      "execution_count": 13,
      "outputs": [
        {
          "output_type": "stream",
          "name": "stdout",
          "text": [
            "Cloning into 'quant'...\n",
            "remote: Enumerating objects: 3, done.\u001b[K\n",
            "remote: Counting objects: 100% (3/3), done.\u001b[K\n",
            "remote: Total 3 (delta 0), reused 0 (delta 0), pack-reused 0 (from 0)\u001b[K\n",
            "Receiving objects: 100% (3/3), done.\n"
          ]
        }
      ]
    },
    {
      "cell_type": "code",
      "source": [
        "import shutil\n",
        "\n",
        "# Move the correct CSV file to your repo\n",
        "shutil.move('/content/5min_candles/47100CE_5min_candles.csv', '/content/quant')\n"
      ],
      "metadata": {
        "colab": {
          "base_uri": "https://localhost:8080/",
          "height": 36
        },
        "id": "BVU5imrtd9Uo",
        "outputId": "f560ce87-c465-4c30-f5e6-6975dcf44b82"
      },
      "execution_count": 17,
      "outputs": [
        {
          "output_type": "execute_result",
          "data": {
            "text/plain": [
              "'/content/quant/47100CE_5min_candles.csv'"
            ],
            "application/vnd.google.colaboratory.intrinsic+json": {
              "type": "string"
            }
          },
          "metadata": {},
          "execution_count": 17
        }
      ]
    },
    {
      "cell_type": "code",
      "source": [],
      "metadata": {
        "id": "e0oeFidme1Uc"
      },
      "execution_count": null,
      "outputs": []
    }
  ]
}